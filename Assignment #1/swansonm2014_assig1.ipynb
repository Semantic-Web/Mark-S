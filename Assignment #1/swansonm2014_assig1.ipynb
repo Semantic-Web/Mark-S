{
 "cells": [
  {
   "cell_type": "markdown",
   "metadata": {},
   "source": [
    "#Assignment 1\n",
    "###Mark Swanson\n",
    "###COP 58959 - Summer 2015\n",
    "###Dr. Shankar\n",
    "###2015-05-20"
   ]
  },
  {
   "cell_type": "markdown",
   "metadata": {},
   "source": [
    "Analyze the data at http://catalog.data.gov/dataset/data-gov-visitor-metrics, pretty printing a table and plotting a barchart to show the top ten organizations by total number of views."
   ]
  },
  {
   "cell_type": "markdown",
   "metadata": {},
   "source": [
    "Import the necessary modules"
   ]
  },
  {
   "cell_type": "code",
   "execution_count": 22,
   "metadata": {
    "collapsed": false
   },
   "outputs": [],
   "source": [
    "import csv, sqlite3\n",
    "import matplotlib.pyplot as plt"
   ]
  },
  {
   "cell_type": "markdown",
   "metadata": {},
   "source": [
    "Open and read the CSV file in order to create an array from the data. Create a database, then insert the array of data into the database."
   ]
  },
  {
   "cell_type": "code",
   "execution_count": 23,
   "metadata": {
    "collapsed": false
   },
   "outputs": [],
   "source": [
    "with open('datagovdatasetsviewmetrics.csv', 'rb') as vmcsv:\n",
    "    vmcsv_reader = csv.DictReader(vmcsv)\n",
    "    vmfields = vmcsv_reader.fieldnames\n",
    "    to_db = [(unicode(field[vmfields[0]], \"utf8\"), unicode(field[vmfields[1]], \"utf8\"), unicode(field[vmfields[2]], \"utf8\"), unicode(field[vmfields[3]], \"utf8\"), unicode(field[vmfields[4]], \"utf8\")) for field in vmcsv_reader]\n",
    "\n",
    "con = sqlite3.connect(\":memory:\")\n",
    "cur = con.cursor()\n",
    "cur.execute('DROP TABLE IF EXISTS vmtable;')\n",
    "cur.execute('CREATE TABLE vmtable(id TEXT, dataset TEXT, org TEXT, views INTEGER, date TEXT);')\n",
    "cur.executemany('INSERT INTO vmtable (id, dataset, org, views, date) VALUES (?, ?, ?, ?, ?);', to_db)\n",
    "con.commit()"
   ]
  },
  {
   "cell_type": "markdown",
   "metadata": {},
   "source": [
    "Select the longest organization title to allow proper formatting of the final table. Select the top 10 organizations based on total view count."
   ]
  },
  {
   "cell_type": "code",
   "execution_count": 24,
   "metadata": {
    "collapsed": false
   },
   "outputs": [],
   "source": [
    "max_org_length = cur.execute('SELECT org_length FROM ( SELECT LENGTH(org) AS org_length, SUM(views) AS sum_views FROM vmtable GROUP BY id ORDER BY sum_views DESC LIMIT 10) as top10views ORDER BY org_length DESC LIMIT 1;').fetchone()[0]\n",
    "cur.execute('SELECT org, SUM(views) AS sum_views FROM vmtable GROUP BY org ORDER BY sum_views DESC LIMIT 10;')\n",
    "top_orgs = cur.fetchall()\n",
    "con.close()"
   ]
  },
  {
   "cell_type": "markdown",
   "metadata": {},
   "source": [
    "Print a list of the organizations. Insert extra spaces after shorter organization titles."
   ]
  },
  {
   "cell_type": "code",
   "execution_count": 25,
   "metadata": {
    "collapsed": false
   },
   "outputs": [
    {
     "name": "stdout",
     "output_type": "stream",
     "text": [
      "US Census Bureau, Department of Commerce                                 178510\n",
      "National Oceanic and Atmospheric Administration, Department of Commerce  155713\n",
      "U.S. Geological Survey, Department of the Interior                       109848\n",
      "U.S. Department of Health & Human Services                               93297\n",
      "Department of Agriculture                                                76948\n",
      "Department of Defense                                                    45886\n",
      "Earth Data Analysis Center, University of New Mexico                     41974\n",
      "Department of Education                                                  39064\n",
      "Department of Transportation                                             37620\n",
      "General Services Administration                                          31281\n"
     ]
    }
   ],
   "source": [
    "org_names = []\n",
    "org_views = []\n",
    "for row in top_orgs:\n",
    "    org_names.append(row[0][:13]+'.\\n'+row[0].split()[-1])\n",
    "    org_views.append(row[1])\n",
    "    print \"{:<{}}  {}\".format(row[0], max_org_length, row[1])"
   ]
  },
  {
   "cell_type": "markdown",
   "metadata": {},
   "source": [
    "Plot a bar chart of the organizations' total view count."
   ]
  },
  {
   "cell_type": "code",
   "execution_count": 26,
   "metadata": {
    "collapsed": false
   },
   "outputs": [],
   "source": [
    "fig = plt.figure()\n",
    "ax = fig.add_subplot(111)\n",
    "index = range(len(org_views))\n",
    "width = .85\n",
    "\n",
    "rects1 = ax.bar(range(len(org_views)), org_views, width,\n",
    "                color='black')\n",
    "\n",
    "ax.set_xlim(-(1-width),len(index))\n",
    "ax.set_ylabel('Views')\n",
    "ax.set_title('Views by Organization')\n",
    "xTickMarks = org_names\n",
    "ax.set_xticks(range(len(org_views)))\n",
    "xtickNames = ax.set_xticklabels(xTickMarks)\n",
    "plt.setp(xtickNames, rotation=45, fontsize=10)\n",
    "\n",
    "plt.tight_layout()\n",
    "plt.show()"
   ]
  },
  {
   "cell_type": "code",
   "execution_count": null,
   "metadata": {
    "collapsed": true
   },
   "outputs": [],
   "source": []
  }
 ],
 "metadata": {
  "kernelspec": {
   "display_name": "Python 2",
   "language": "python",
   "name": "python2"
  },
  "language_info": {
   "codemirror_mode": {
    "name": "ipython",
    "version": 2
   },
   "file_extension": ".py",
   "mimetype": "text/x-python",
   "name": "python",
   "nbconvert_exporter": "python",
   "pygments_lexer": "ipython2",
   "version": "2.7.9"
  }
 },
 "nbformat": 4,
 "nbformat_minor": 0
}
