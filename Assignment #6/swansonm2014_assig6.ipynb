{
 "cells": [
  {
   "cell_type": "markdown",
   "metadata": {},
   "source": [
    "# Assignment 6\n",
    "###Mark Swanson\n",
    "###COP 58959 - Summer 2015\n",
    "###Dr. Shankar\n",
    "###2015-07-28"
   ]
  },
  {
   "cell_type": "markdown",
   "metadata": {},
   "source": [
    "Retrieve SMART on FHIR datasets for patients' vital signs utilizing the smarthealthit.org API. After collecting the data, plot histogram data of vital signs for all patients utiliznig the FHIR namespace."
   ]
  },
  {
   "cell_type": "markdown",
   "metadata": {},
   "source": [
    "Import the necessary modules"
   ]
  },
  {
   "cell_type": "code",
   "execution_count": 1,
   "metadata": {
    "collapsed": false
   },
   "outputs": [],
   "source": [
    "from xml.etree.ElementTree import parse\n",
    "import subprocess\n",
    "from pandas import DataFrame\n",
    "import matplotlib.pyplot as plt\n",
    "import os\n",
    "import errno"
   ]
  },
  {
   "cell_type": "markdown",
   "metadata": {},
   "source": [
    "Initialize global variables and generate necessary temporary filesystem"
   ]
  },
  {
   "cell_type": "code",
   "execution_count": 2,
   "metadata": {
    "collapsed": true
   },
   "outputs": [],
   "source": [
    "mean_bp = []\n",
    "mean_diastolic = []\n",
    "mean_systolic = []\n",
    "count = 0\n",
    "\n",
    "try:\n",
    "    os.makedirs('tmp')\n",
    "except OSError:\n",
    "    if not os.path.isdir('tmp'):\n",
    "        raise"
   ]
  },
  {
   "cell_type": "markdown",
   "metadata": {},
   "source": [
    "Retrieve a list of patients from SMART and generate an Observation file for each patient containing vital sign data"
   ]
  },
  {
   "cell_type": "code",
   "execution_count": 3,
   "metadata": {
    "collapsed": true
   },
   "outputs": [],
   "source": [
    "patient_file = open('tmp/patient_file', 'w')\n",
    "subprocess.call(['curl', '-s', '-k', '-H', '\"Accept: application/json+fhir\"', 'https://fhir-open-api.smarthealthit.org/Patient'], stdout=patient_file)\n",
    "patient_file.close()\n",
    "\n",
    "patient_parse = parse('tmp/patient_file')\n",
    "\n",
    "patient_list = []\n",
    "for identifier in patient_parse.findall('.//{http://hl7.org/fhir}identifier'):\n",
    "  value = identifier.find('{http://hl7.org/fhir}value')\n",
    "  #print value.get('value')\n",
    "  patient_list.append(value.get('value'))\n",
    "#print patient_list\n",
    "\n",
    "#patient_list = ['1288992']\n",
    "for patient in patient_list:\n",
    "  patient_file = open('tmp/' + patient, 'w')\n",
    "  subprocess.call(['curl', '-s', '-k', '-H', '\"Accept: application/json+fhir\"', 'https://fhir-open-api.smarthealthit.org/Observation/_search?subject%3APatient=' + patient + '&name=8302-2%2C3141-9%2C8867-4%2C9279-1%2C8310-5%2C39156-5%2C2710-2%2C8287-5%2C55284-4%2C8480-6%2C8462-4'], stdout=patient_file)\n",
    "  patient_file.close()\n",
    "  #print patient"
   ]
  },
  {
   "cell_type": "markdown",
   "metadata": {},
   "source": [
    "Calculate mean systolic, diastolic, and mean blood pressures for each patient, trimming the data as necessary as only the previous 50 values are available, and store in global arrays for plotting"
   ]
  },
  {
   "cell_type": "code",
   "execution_count": 4,
   "metadata": {
    "collapsed": true
   },
   "outputs": [],
   "source": [
    "for patient in patient_list:\n",
    "  doc = parse('tmp/' + patient)\n",
    "  \n",
    "  systolic_bps = []\n",
    "  diastolic_bps = []\n",
    "\n",
    "  for observation in doc.findall('.//{http://hl7.org/fhir}Observation'):\n",
    "    text_ele = observation.find('{http://hl7.org/fhir}text')\n",
    "    div = text_ele.find('{http://www.w3.org/1999/xhtml}div')\n",
    "    if div.text.find('Systolic') != -1:\n",
    "      value_quant = observation.find('{http://hl7.org/fhir}valueQuantity')\n",
    "      value = value_quant.find('{http://hl7.org/fhir}value')\n",
    "      systolic_bps.append(value.get('value'))\n",
    "    if div.text.find('Diastolic') != -1:\n",
    "      value_quant = observation.find('{http://hl7.org/fhir}valueQuantity')\n",
    "      value = value_quant.find('{http://hl7.org/fhir}value')\n",
    "      diastolic_bps.append(value.get('value'))\n",
    "\n",
    "  if (not systolic_bps) & (not diastolic_bps):\n",
    "    #print \"No Systolic/Diastolic BP\"\n",
    "    continue\n",
    "  \n",
    "  while len(systolic_bps) > len(diastolic_bps):\n",
    "    systolic_bps.pop()   \n",
    "  while len(diastolic_bps) > len(systolic_bps):\n",
    "    diastolic_bps.pop()\n",
    "    \n",
    "  enc_dict = {}\n",
    "  enc_dict['systolic_bp'] = systolic_bps\n",
    "  enc_dict['diastolic_bp'] = diastolic_bps\n",
    "  encounters = DataFrame(enc_dict, columns=['diastolic_bp', 'systolic_bp'])\n",
    "  encounters = encounters.convert_objects(convert_dates='coerce', convert_numeric=True)\n",
    "  #print encounters\n",
    "  \n",
    "  enc_period = encounters\n",
    "  enc_period['mean_bp'] = enc_period['diastolic_bp'] + ((enc_period['systolic_bp']-enc_period['diastolic_bp'])/3)\n",
    "  \n",
    "  mbp = enc_period['mean_bp'].mean()\n",
    "  msys = enc_period['systolic_bp'].mean()\n",
    "  mdia = enc_period['diastolic_bp'].mean()\n",
    "  mean_bp.append(mbp)\n",
    "  mean_systolic.append(msys)\n",
    "  mean_diastolic.append(mdia)\n",
    "  count = count + 1\n",
    "  #print mbp\n",
    "  #print msys\n",
    "  #print mdia"
   ]
  },
  {
   "cell_type": "markdown",
   "metadata": {},
   "source": [
    "Plot mean systolic, diastolic, and mean blood pressure histograms for the patient list"
   ]
  },
  {
   "cell_type": "code",
   "execution_count": 5,
   "metadata": {
    "collapsed": true
   },
   "outputs": [],
   "source": [
    "#print mean_bp\n",
    "#print mean_systolic\n",
    "#print mean_diastolic\n",
    "#print count\n",
    "\n",
    "plt.figure(1)\n",
    "plt.hist(mean_bp, stacked=True)\n",
    "plt.title(\"Gaussian Histogram\")\n",
    "plt.xlabel(\"Mean Blood Pressure\")\n",
    "plt.ylabel(\"Frequency\")\n",
    "\n",
    "plt.figure(2)\n",
    "plt.hist(mean_systolic, stacked=True)\n",
    "plt.title(\"Gaussian Histogram\")\n",
    "plt.xlabel(\"Mean Systolic Pressure\")\n",
    "plt.ylabel(\"Frequency\")\n",
    "\n",
    "plt.figure(3)\n",
    "plt.hist(mean_diastolic, stacked=True)\n",
    "plt.title(\"Gaussian Histogram\")\n",
    "plt.xlabel(\"Mean Diastolic Pressure\")\n",
    "plt.ylabel(\"Frequency\")\n",
    "\n",
    "plt.show()\n",
    "plt.close()"
   ]
  },
  {
   "cell_type": "markdown",
   "metadata": {},
   "source": [
    "Clean up working directory"
   ]
  },
  {
   "cell_type": "code",
   "execution_count": 6,
   "metadata": {
    "collapsed": true
   },
   "outputs": [],
   "source": [
    "for root, dirs, files in os.walk('tmp', topdown=False):\n",
    "    for name in files:\n",
    "        os.remove(os.path.join(root, name))\n",
    "    for name in dirs:\n",
    "        os.rmdir(os.path.join(root, name))\n",
    "    os.rmdir(root)"
   ]
  }
 ],
 "metadata": {
  "kernelspec": {
   "display_name": "Python 2",
   "language": "python",
   "name": "python2"
  },
  "language_info": {
   "codemirror_mode": {
    "name": "ipython",
    "version": 2
   },
   "file_extension": ".py",
   "mimetype": "text/x-python",
   "name": "python",
   "nbconvert_exporter": "python",
   "pygments_lexer": "ipython2",
   "version": "2.7.9"
  }
 },
 "nbformat": 4,
 "nbformat_minor": 0
}
